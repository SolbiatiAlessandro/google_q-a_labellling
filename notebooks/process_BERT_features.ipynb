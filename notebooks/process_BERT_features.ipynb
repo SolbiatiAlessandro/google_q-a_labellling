{
 "cells": [
  {
   "cell_type": "code",
   "execution_count": 1,
   "metadata": {},
   "outputs": [],
   "source": [
    "BERT_columns = ['question_title', 'question_body', 'answer']\n",
    "BERT_max_sentence_size = 512\n",
    "BERT_embedding_size = 768"
   ]
  },
  {
   "cell_type": "code",
   "execution_count": 34,
   "metadata": {},
   "outputs": [],
   "source": [
    "import torch\n",
    "from transformers import BertTokenizer, BertModel\n",
    "BERT_BASE_UNCASED_LOCATION = \"../models/bert-base-uncased\"\n",
    "tokenizer = BertTokenizer.from_pretrained('bert-base-uncased')\n",
    "model = BertModel.from_pretrained(BERT_BASE_UNCASED_LOCATION, return_dict=False)\n",
    "\n"
   ]
  },
  {
   "cell_type": "code",
   "execution_count": 40,
   "metadata": {},
   "outputs": [],
   "source": [
    "inputs = tokenizer(\"Example sentence for encoding\", return_tensors=\"pt\")\n",
    "tokens = inputs['input_ids']\n",
    "outputs = model(**inputs, output_hidden_states=True)"
   ]
  },
  {
   "cell_type": "code",
   "execution_count": 81,
   "metadata": {},
   "outputs": [],
   "source": [
    "\n",
    "def _get_layer_width(inputs):\n",
    "    tokens = inputs['input_ids']\n",
    "    return tokens.shape[1]\n",
    "\n",
    "def _get_hidden_states(outputs):\n",
    "    return outputs.hidden_states if hasattr(outputs, 'hidden_states') else outputs[2]\n",
    "\n",
    "def process_BERT_features(\n",
    "    inputs,\n",
    "    outputs, \n",
    "    layer_start,\n",
    "    layer_end=0,\n",
    "    pooling_function=torch.nn.AvgPool2d, \n",
    "    pooling_function_args=[1]\n",
    "    ):\n",
    "    \"\"\"\n",
    "    performs pooling of layer of index `layer start` and returns torch.tensor(1,1,758)\n",
    "    give layer_end to have a concat pooling, returns torch.tensor(1,1,758 * (layer-end - layer-start))\n",
    "    put layer_end to None to get [layer_start:] splice\n",
    "    \"\"\"\n",
    "    pooling = pooling_function((_get_layer_width(inputs), *pooling_function_args))\n",
    "    hidden_states = _get_hidden_states(outputs)\n",
    "    features = torch.cat(hidden_states[layer_start:layer_end if layer_end != 0 else layer_start + 1], dim=2)\n",
    "    return pooling(features)"
   ]
  },
  {
   "cell_type": "code",
   "execution_count": 39,
   "metadata": {},
   "outputs": [
    {
     "data": {
      "text/plain": [
       "torch.Size([1, 1, 763])"
      ]
     },
     "execution_count": 39,
     "metadata": {},
     "output_type": "execute_result"
    }
   ],
   "source": [
    "process_BERT_features(inputs, outputs, 1).shape"
   ]
  },
  {
   "cell_type": "code",
   "execution_count": 16,
   "metadata": {},
   "outputs": [
    {
     "data": {
      "text/plain": [
       "torch.Size([1, 1, 763])"
      ]
     },
     "execution_count": 16,
     "metadata": {},
     "output_type": "execute_result"
    }
   ],
   "source": [
    "process_BERT_features(inputs, outputs, 2).shape"
   ]
  },
  {
   "cell_type": "code",
   "execution_count": 17,
   "metadata": {},
   "outputs": [
    {
     "data": {
      "text/plain": [
       "torch.Size([1, 1, 763])"
      ]
     },
     "execution_count": 17,
     "metadata": {},
     "output_type": "execute_result"
    }
   ],
   "source": [
    "process_BERT_features(inputs, outputs, 5).shape"
   ]
  },
  {
   "cell_type": "code",
   "execution_count": 18,
   "metadata": {},
   "outputs": [
    {
     "data": {
      "text/plain": [
       "torch.Size([1, 1, 763])"
      ]
     },
     "execution_count": 18,
     "metadata": {},
     "output_type": "execute_result"
    }
   ],
   "source": [
    "process_BERT_features(inputs, outputs, 5, pooling_function=torch.nn.MaxPool2d).shape"
   ]
  },
  {
   "cell_type": "code",
   "execution_count": 23,
   "metadata": {},
   "outputs": [
    {
     "data": {
      "text/plain": [
       "torch.Size([1, 1, 1531])"
      ]
     },
     "execution_count": 23,
     "metadata": {},
     "output_type": "execute_result"
    }
   ],
   "source": [
    "process_BERT_features(inputs, outputs, 5, 7, pooling_function=torch.nn.MaxPool2d).shape"
   ]
  },
  {
   "cell_type": "code",
   "execution_count": 19,
   "metadata": {},
   "outputs": [
    {
     "data": {
      "text/plain": [
       "torch.Size([1, 1, 1531])"
      ]
     },
     "execution_count": 19,
     "metadata": {},
     "output_type": "execute_result"
    }
   ],
   "source": [
    "process_BERT_features(inputs, outputs, 5, 7).shape"
   ]
  },
  {
   "cell_type": "code",
   "execution_count": 20,
   "metadata": {},
   "outputs": [
    {
     "data": {
      "text/plain": [
       "torch.Size([1, 1, 763])"
      ]
     },
     "execution_count": 20,
     "metadata": {},
     "output_type": "execute_result"
    }
   ],
   "source": [
    "process_BERT_features(inputs, outputs, -3).shape"
   ]
  },
  {
   "cell_type": "code",
   "execution_count": 21,
   "metadata": {},
   "outputs": [
    {
     "data": {
      "text/plain": [
       "torch.Size([1, 1, 1531])"
      ]
     },
     "execution_count": 21,
     "metadata": {},
     "output_type": "execute_result"
    }
   ],
   "source": [
    "process_BERT_features(inputs, outputs, -3, -1).shape"
   ]
  },
  {
   "cell_type": "code",
   "execution_count": 22,
   "metadata": {},
   "outputs": [
    {
     "data": {
      "text/plain": [
       "torch.Size([1, 1, 2299])"
      ]
     },
     "execution_count": 22,
     "metadata": {},
     "output_type": "execute_result"
    }
   ],
   "source": [
    "process_BERT_features(inputs, outputs, -3, None).shape"
   ]
  },
  {
   "cell_type": "code",
   "execution_count": 69,
   "metadata": {},
   "outputs": [],
   "source": [
    "def features(s):\n",
    "    inputs = tokenizer(s, return_tensors=\"pt\")\n",
    "    tokens = inputs['input_ids']\n",
    "    outputs = model(**inputs, output_hidden_states=True)\n",
    "    return process_BERT_features(inputs, outputs, 5)"
   ]
  },
  {
   "cell_type": "code",
   "execution_count": 82,
   "metadata": {},
   "outputs": [
    {
     "data": {
      "text/plain": [
       "torch.Size([1, 1, 768])"
      ]
     },
     "execution_count": 82,
     "metadata": {},
     "output_type": "execute_result"
    }
   ],
   "source": [
    "features(\"testing\").shape"
   ]
  },
  {
   "cell_type": "code",
   "execution_count": 83,
   "metadata": {},
   "outputs": [
    {
     "data": {
      "text/plain": [
       "torch.Size([1, 1, 768])"
      ]
     },
     "execution_count": 83,
     "metadata": {},
     "output_type": "execute_result"
    }
   ],
   "source": [
    "features(\"testing and testing\").shape"
   ]
  },
  {
   "cell_type": "code",
   "execution_count": 84,
   "metadata": {},
   "outputs": [
    {
     "data": {
      "text/plain": [
       "torch.Size([1, 1, 768])"
      ]
     },
     "execution_count": 84,
     "metadata": {},
     "output_type": "execute_result"
    }
   ],
   "source": [
    "features(\"testing and testing and testing\").shape"
   ]
  }
 ],
 "metadata": {
  "kernelspec": {
   "display_name": "Python 3",
   "language": "python",
   "name": "python3"
  },
  "language_info": {
   "codemirror_mode": {
    "name": "ipython",
    "version": 3
   },
   "file_extension": ".py",
   "mimetype": "text/x-python",
   "name": "python",
   "nbconvert_exporter": "python",
   "pygments_lexer": "ipython3",
   "version": "3.7.5"
  }
 },
 "nbformat": 4,
 "nbformat_minor": 4
}
