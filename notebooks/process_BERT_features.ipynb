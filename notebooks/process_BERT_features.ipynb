{
 "cells": [
  {
   "cell_type": "code",
   "execution_count": 1,
   "metadata": {},
   "outputs": [],
   "source": [
    "BERT_columns = ['question_title', 'question_body', 'answer']\n",
    "BERT_max_sentence_size = 512\n",
    "BERT_embedding_size = 768"
   ]
  },
  {
   "cell_type": "code",
   "execution_count": 2,
   "metadata": {},
   "outputs": [],
   "source": [
    "import torch\n",
    "from transformers import BertTokenizer, BertModel\n",
    "BERT_BASE_UNCASED_LOCATION = \"../models/bert-base-uncased\"\n",
    "tokenizer = BertTokenizer.from_pretrained('bert-base-uncased')\n",
    "model = BertModel.from_pretrained(BERT_BASE_UNCASED_LOCATION, return_dict=True)"
   ]
  },
  {
   "cell_type": "code",
   "execution_count": 17,
   "metadata": {},
   "outputs": [],
   "source": [
    "inputs = tokenizer(\"Example sentence for encoding\", return_tensors=\"pt\")\n",
    "tokens = inputs['input_ids']"
   ]
  },
  {
   "cell_type": "code",
   "execution_count": 4,
   "metadata": {},
   "outputs": [],
   "source": [
    "outputs = model(**inputs, output_hidden_states=True)"
   ]
  },
  {
   "cell_type": "code",
   "execution_count": 7,
   "metadata": {},
   "outputs": [
    {
     "data": {
      "text/plain": [
       "13"
      ]
     },
     "execution_count": 7,
     "metadata": {},
     "output_type": "execute_result"
    }
   ],
   "source": [
    "len(outputs.hidden_states)"
   ]
  },
  {
   "cell_type": "code",
   "execution_count": 8,
   "metadata": {},
   "outputs": [
    {
     "data": {
      "text/plain": [
       "(768,)"
      ]
     },
     "execution_count": 8,
     "metadata": {},
     "output_type": "execute_result"
    }
   ],
   "source": [
    "def extract_BERT_last_hidden_CLS(outputs):\n",
    "    return outputs.last_hidden_state[0][0].detach().numpy()\n",
    "extract_BERT_last_hidden_CLS(outputs).shape"
   ]
  },
  {
   "cell_type": "code",
   "execution_count": 10,
   "metadata": {},
   "outputs": [
    {
     "data": {
      "text/plain": [
       "torch.Size([1, 6, 768])"
      ]
     },
     "execution_count": 10,
     "metadata": {},
     "output_type": "execute_result"
    }
   ],
   "source": [
    "outputs.hidden_states[-1].shape"
   ]
  },
  {
   "cell_type": "code",
   "execution_count": 22,
   "metadata": {},
   "outputs": [],
   "source": [
    "layer_width = tokens.shape[1]"
   ]
  },
  {
   "cell_type": "code",
   "execution_count": 24,
   "metadata": {},
   "outputs": [
    {
     "data": {
      "text/plain": [
       "AvgPool2d(kernel_size=6, stride=1, padding=0)"
      ]
     },
     "execution_count": 24,
     "metadata": {},
     "output_type": "execute_result"
    }
   ],
   "source": [
    "pooling = torch.nn.AvgPool2d(layer_width, 1)\n",
    "pooling"
   ]
  },
  {
   "cell_type": "code",
   "execution_count": 26,
   "metadata": {},
   "outputs": [
    {
     "data": {
      "text/plain": [
       "torch.Size([1, 1, 763])"
      ]
     },
     "execution_count": 26,
     "metadata": {},
     "output_type": "execute_result"
    }
   ],
   "source": [
    "pooling(outputs.hidden_states[-1]).shape"
   ]
  },
  {
   "cell_type": "code",
   "execution_count": 45,
   "metadata": {},
   "outputs": [
    {
     "data": {
      "text/plain": [
       "torch.Size([1, 6, 768])"
      ]
     },
     "execution_count": 45,
     "metadata": {},
     "output_type": "execute_result"
    }
   ],
   "source": [
    "outputs.hidden_states[2:4][0].shape"
   ]
  },
  {
   "cell_type": "code",
   "execution_count": 49,
   "metadata": {},
   "outputs": [
    {
     "data": {
      "text/plain": [
       "torch.Size([1, 6, 1536])"
      ]
     },
     "execution_count": 49,
     "metadata": {},
     "output_type": "execute_result"
    }
   ],
   "source": [
    "torch.cat(outputs.hidden_states[2:4], dim=2).shape"
   ]
  },
  {
   "cell_type": "code",
   "execution_count": 54,
   "metadata": {},
   "outputs": [
    {
     "data": {
      "text/plain": [
       "(tensor([[[-0.6934, -0.2054, -0.6048,  ..., -1.1626, -0.4721,  1.0977],\n",
       "          [-0.1397,  0.1470, -0.7247,  ..., -1.1639,  0.3561,  0.3066],\n",
       "          [-0.0867, -0.1655, -0.1916,  ..., -0.7379, -0.1337,  0.5020],\n",
       "          [-0.8690,  0.2497,  0.2089,  ..., -0.1149, -0.5614,  0.1031],\n",
       "          [-0.6641, -0.7928, -0.4635,  ..., -0.1858, -0.2659,  0.1560],\n",
       "          [ 0.0379,  0.0096, -0.0318,  ..., -0.0077, -0.0451,  0.0137]]],\n",
       "        grad_fn=<NativeLayerNormBackward>),\n",
       " tensor([[[-0.0346, -0.1905, -0.3956,  ..., -0.6355, -0.0444,  0.8815],\n",
       "          [-0.0055, -0.0130, -0.6201,  ..., -0.3944,  0.5584,  0.5617],\n",
       "          [-0.1010, -0.1315, -0.0035,  ..., -0.6751, -0.2122,  0.4347],\n",
       "          [ 0.0680, -0.0280,  0.0513,  ..., -0.2038, -0.4270,  0.0056],\n",
       "          [-0.3042, -0.6091, -0.3541,  ...,  0.0265, -0.1716,  0.3388],\n",
       "          [ 1.0098, -0.0306, -0.4799,  ...,  0.2509, -0.9008, -0.3134]]],\n",
       "        grad_fn=<NativeLayerNormBackward>))"
      ]
     },
     "execution_count": 54,
     "metadata": {},
     "output_type": "execute_result"
    }
   ],
   "source": [
    "outputs.hidden_states[-2:None]"
   ]
  },
  {
   "cell_type": "code",
   "execution_count": 74,
   "metadata": {},
   "outputs": [],
   "source": [
    "def _get_layer_width(inputs):\n",
    "    tokens = inputs['input_ids']\n",
    "    return tokens.shape[1]\n",
    "\n",
    "def process_BERT_features(\n",
    "    inputs,\n",
    "    outputs, \n",
    "    layer_start,\n",
    "    layer_end=0,\n",
    "    pooling_function=torch.nn.AvgPool2d, \n",
    "    pooling_function_args=[1]\n",
    "    ):\n",
    "    \"\"\"\n",
    "    performs pooling of layer of index `layer start` and returns torch.tensor(1,1,758)\n",
    "    give layer_end to have a concat pooling, returns torch.tensor(1,1,758 * (layer-end - layer-start))\n",
    "    put layer_end to None to get [layer_start:] splice\n",
    "    \"\"\"\n",
    "    pooling = pooling_function(_get_layer_width(inputs), *pooling_function_args)\n",
    "    features = torch.cat(outputs.hidden_states[layer_start:layer_end if layer_end != 0 else layer_start + 1], dim=2)\n",
    "    return pooling(features)"
   ]
  },
  {
   "cell_type": "code",
   "execution_count": 75,
   "metadata": {},
   "outputs": [
    {
     "data": {
      "text/plain": [
       "torch.Size([1, 1, 763])"
      ]
     },
     "execution_count": 75,
     "metadata": {},
     "output_type": "execute_result"
    }
   ],
   "source": [
    "process_BERT_features(inputs, outputs, 1).shape"
   ]
  },
  {
   "cell_type": "code",
   "execution_count": 76,
   "metadata": {},
   "outputs": [
    {
     "data": {
      "text/plain": [
       "torch.Size([1, 1, 763])"
      ]
     },
     "execution_count": 76,
     "metadata": {},
     "output_type": "execute_result"
    }
   ],
   "source": [
    "process_BERT_features(inputs, outputs, 2).shape"
   ]
  },
  {
   "cell_type": "code",
   "execution_count": 77,
   "metadata": {},
   "outputs": [
    {
     "data": {
      "text/plain": [
       "torch.Size([1, 1, 763])"
      ]
     },
     "execution_count": 77,
     "metadata": {},
     "output_type": "execute_result"
    }
   ],
   "source": [
    "process_BERT_features(inputs, outputs, 5).shape"
   ]
  },
  {
   "cell_type": "code",
   "execution_count": 78,
   "metadata": {},
   "outputs": [
    {
     "data": {
      "text/plain": [
       "torch.Size([1, 1, 763])"
      ]
     },
     "execution_count": 78,
     "metadata": {},
     "output_type": "execute_result"
    }
   ],
   "source": [
    "process_BERT_features(inputs, outputs, 5, pooling_function=torch.nn.MaxPool2d).shape"
   ]
  },
  {
   "cell_type": "code",
   "execution_count": 79,
   "metadata": {},
   "outputs": [
    {
     "data": {
      "text/plain": [
       "torch.Size([1, 1, 1531])"
      ]
     },
     "execution_count": 79,
     "metadata": {},
     "output_type": "execute_result"
    }
   ],
   "source": [
    "process_BERT_features(inputs, outputs, 5, 7).shape"
   ]
  },
  {
   "cell_type": "code",
   "execution_count": 80,
   "metadata": {},
   "outputs": [
    {
     "data": {
      "text/plain": [
       "torch.Size([1, 1, 763])"
      ]
     },
     "execution_count": 80,
     "metadata": {},
     "output_type": "execute_result"
    }
   ],
   "source": [
    "process_BERT_features(inputs, outputs, -3).shape"
   ]
  },
  {
   "cell_type": "code",
   "execution_count": 81,
   "metadata": {},
   "outputs": [
    {
     "data": {
      "text/plain": [
       "torch.Size([1, 1, 1531])"
      ]
     },
     "execution_count": 81,
     "metadata": {},
     "output_type": "execute_result"
    }
   ],
   "source": [
    "process_BERT_features(inputs, outputs, -3, -1).shape"
   ]
  },
  {
   "cell_type": "code",
   "execution_count": 82,
   "metadata": {},
   "outputs": [
    {
     "data": {
      "text/plain": [
       "torch.Size([1, 1, 2299])"
      ]
     },
     "execution_count": 82,
     "metadata": {},
     "output_type": "execute_result"
    }
   ],
   "source": [
    "process_BERT_features(inputs, outputs, -3, None).shape"
   ]
  },
  {
   "cell_type": "code",
   "execution_count": null,
   "metadata": {},
   "outputs": [],
   "source": []
  }
 ],
 "metadata": {
  "kernelspec": {
   "display_name": "Python 3",
   "language": "python",
   "name": "python3"
  },
  "language_info": {
   "codemirror_mode": {
    "name": "ipython",
    "version": 3
   },
   "file_extension": ".py",
   "mimetype": "text/x-python",
   "name": "python",
   "nbconvert_exporter": "python",
   "pygments_lexer": "ipython3",
   "version": "3.7.5"
  }
 },
 "nbformat": 4,
 "nbformat_minor": 4
}
