{
 "cells": [
  {
   "cell_type": "code",
   "execution_count": 1,
   "metadata": {},
   "outputs": [],
   "source": [
    "import os\n",
    "os.listdir('../data')\n",
    "TEST_PATH = \"../data/test.csv\"\n",
    "TRAIN_PATH = \"../data/train.csv\"\n",
    "SAMPLE_SUBMISSION_PATH = \"../data/sample_submission.csv\""
   ]
  },
  {
   "cell_type": "code",
   "execution_count": 2,
   "metadata": {},
   "outputs": [],
   "source": [
    "import pandas as pd\n",
    "test_data = pd.read_csv(TEST_PATH)\n",
    "train_data = pd.read_csv(TRAIN_PATH)\n",
    "sample_submission_data = pd.read_csv(SAMPLE_SUBMISSION_PATH)"
   ]
  },
  {
   "cell_type": "code",
   "execution_count": 3,
   "metadata": {},
   "outputs": [
    {
     "name": "stdout",
     "output_type": "stream",
     "text": [
      "['question_asker_intent_understanding', 'question_body_critical', 'question_conversational', 'question_expect_short_answer', 'question_fact_seeking', 'question_has_commonly_accepted_answer', 'question_interestingness_others', 'question_interestingness_self', 'question_multi_intent', 'question_not_really_a_question', 'question_opinion_seeking', 'question_type_choice', 'question_type_compare', 'question_type_consequence', 'question_type_definition', 'question_type_entity', 'question_type_instructions', 'question_type_procedure', 'question_type_reason_explanation', 'question_type_spelling', 'question_well_written', 'answer_helpful', 'answer_level_of_information', 'answer_plausible', 'answer_relevance', 'answer_satisfaction', 'answer_type_instructions', 'answer_type_procedure', 'answer_type_reason_explanation', 'answer_well_written']\n",
      "['qa_id', 'question_title', 'question_body', 'question_user_name', 'question_user_page', 'answer', 'answer_user_name', 'answer_user_page', 'url', 'category', 'host']\n"
     ]
    }
   ],
   "source": [
    "prediction_columns = [col for col in train_data.columns if col not in test_data]\n",
    "input_columns = [col for col in test_data.columns]\n",
    "print(prediction_columns)\n",
    "print(input_columns)"
   ]
  },
  {
   "cell_type": "code",
   "execution_count": 4,
   "metadata": {},
   "outputs": [],
   "source": [
    "X, y = train_data[input_columns], train_data[prediction_columns]"
   ]
  },
  {
   "cell_type": "code",
   "execution_count": 12,
   "metadata": {},
   "outputs": [],
   "source": [
    "\n"
   ]
  },
  {
   "cell_type": "markdown",
   "metadata": {},
   "source": [
    "# BERT"
   ]
  },
  {
   "cell_type": "code",
   "execution_count": 27,
   "metadata": {},
   "outputs": [],
   "source": [
    "X = pd.read_csv('../data/bert_features.csv')\n",
    "X = X.iloc[:, 1:]"
   ]
  },
  {
   "cell_type": "code",
   "execution_count": 28,
   "metadata": {},
   "outputs": [],
   "source": [
    "from sklearn.model_selection import train_test_split\n",
    "X_train, X_test, y_train, y_test = train_test_split(X, y)"
   ]
  },
  {
   "cell_type": "code",
   "execution_count": 29,
   "metadata": {},
   "outputs": [
    {
     "data": {
      "text/plain": [
       "(4559, 2304)"
      ]
     },
     "execution_count": 29,
     "metadata": {},
     "output_type": "execute_result"
    }
   ],
   "source": [
    "X_train.shape"
   ]
  },
  {
   "cell_type": "code",
   "execution_count": 30,
   "metadata": {},
   "outputs": [],
   "source": [
    "from sklearn.linear_model import LinearRegression\n",
    "lr = LinearRegression().fit(X_train, y_train)\n",
    "y_pred = lr.predict(X_test)\n",
    "y_pred = pd.DataFrame(y_pred)"
   ]
  },
  {
   "cell_type": "code",
   "execution_count": 31,
   "metadata": {},
   "outputs": [],
   "source": [
    "# evaluation\n",
    "import math\n",
    "from scipy import stats\n",
    "def evaluate(y_test, y_pred):\n",
    "    assert y_test.shape == y_pred.shape\n",
    "    correlations = [stats.spearmanr(y_test.iloc[:, col_index], y_pred.iloc[:, col_index]).correlation for col_index in range(y_test.shape[1])]\n",
    "    score = sum([*filter(lambda x: not math.isnan(x), correlations)]) / len([*filter(lambda x: not math.isnan(x), correlations)])\n",
    "    return score, correlations"
   ]
  },
  {
   "cell_type": "code",
   "execution_count": 32,
   "metadata": {},
   "outputs": [
    {
     "data": {
      "text/plain": [
       "0.22634422484181108"
      ]
     },
     "execution_count": 32,
     "metadata": {},
     "output_type": "execute_result"
    }
   ],
   "source": [
    "score, correlations = evaluate(y_test, y_pred)\n",
    "score"
   ]
  },
  {
   "cell_type": "markdown",
   "metadata": {},
   "source": [
    "# NN"
   ]
  },
  {
   "cell_type": "code",
   "execution_count": 109,
   "metadata": {},
   "outputs": [],
   "source": [
    "BATCH_SIZE = 5\n",
    "LOSS = nn.MSELoss()\n",
    "EPOCHS = 8"
   ]
  },
  {
   "cell_type": "code",
   "execution_count": 110,
   "metadata": {},
   "outputs": [
    {
     "data": {
      "text/plain": [
       "((4559, 2304), (4559, 30))"
      ]
     },
     "execution_count": 110,
     "metadata": {},
     "output_type": "execute_result"
    }
   ],
   "source": [
    "X_train.shape, y_train.shape"
   ]
  },
  {
   "cell_type": "code",
   "execution_count": 111,
   "metadata": {},
   "outputs": [],
   "source": [
    "import torch\n",
    "import torch.nn as nn\n",
    "import torch.nn.functional as F\n",
    "import torch.optim as optim\n",
    "\n",
    "class Net(nn.Module):\n",
    "    def __init__(self):\n",
    "        super(Net, self).__init__()\n",
    "        self.fc1 = nn.Linear(768 * 3, 768)\n",
    "        self.fc2 = nn.Linear(768, 256)\n",
    "        self.fc3 = nn.Linear(256, 30)\n",
    "        \n",
    "    def forward(self, x):\n",
    "        x = F.relu(self.fc1(x))\n",
    "        x = F.relu(self.fc2(x))\n",
    "        x = self.fc3(x)\n",
    "        return x\n",
    "\n"
   ]
  },
  {
   "cell_type": "code",
   "execution_count": 112,
   "metadata": {},
   "outputs": [],
   "source": [
    "def get_batch(df, i, batch_size=BATCH_SIZE):\n",
    "    return torch.Tensor(df.iloc[i:i+batch_size,:].values)\n",
    "\n",
    "def get_test_loss(X_test, y_test):\n",
    "    test_rounds = int(X_test.shape[0] / BATCH_SIZE)\n",
    "    running_test_loss = 0.0\n",
    "    for j in range(test_rounds):\n",
    "        inputs = get_batch(X_test, j)\n",
    "        outputs = net(inputs)\n",
    "        labels = get_batch(y_test, j)\n",
    "        loss = LOSS(outputs, labels)\n",
    "        running_test_loss += loss\n",
    "    running_test_loss /= test_rounds\n",
    "    return running_test_loss\n",
    "\n",
    "\n",
    "def train(net, X, y, X_test, y_test, optimizer):\n",
    "    train_loss, test_loss = [], []\n",
    "    rounds = int(X.shape[0] / BATCH_SIZE)   \n",
    "    loss_round = int(X.shape[0] / 10)\n",
    "    \n",
    "    for epoch in range(EPOCHS):\n",
    "        running_loss = 0.0\n",
    "        for i in range(rounds):\n",
    "            inputs = get_batch(X, i)\n",
    "            optimizer.zero_grad()\n",
    "            \n",
    "            outputs = net(inputs)\n",
    "            labels = get_batch(y, i)\n",
    "            loss = LOSS(outputs, labels)\n",
    "            running_loss += loss.item()\n",
    "            \n",
    "            loss.backward()\n",
    "            optimizer.step()\n",
    "            \n",
    "            if i % loss_round == loss_round - 1:\n",
    "                \n",
    "                running_loss /= loss_round\n",
    "                running_test_loss = get_test_loss(X_test, y_test)\n",
    "                \n",
    "                train_loss.append(running_loss)\n",
    "                test_loss.append(running_test_loss)\n",
    "                print('[%d, %5d] train_loss: %.3f, test_loss: %.3f' %\n",
    "                  (epoch + 1, i + 1, running_loss, running_test_loss))\n",
    "                running_loss = 0.0\n",
    "                \n",
    "                \n",
    "    return train_loss, test_loss"
   ]
  },
  {
   "cell_type": "code",
   "execution_count": 113,
   "metadata": {},
   "outputs": [
    {
     "name": "stdout",
     "output_type": "stream",
     "text": [
      "[1,   455] train_loss: 0.089, test_loss: 0.061\n",
      "[1,   910] train_loss: 0.062, test_loss: 0.058\n",
      "[2,   455] train_loss: 0.059, test_loss: 0.058\n",
      "[2,   910] train_loss: 0.058, test_loss: 0.055\n",
      "[3,   455] train_loss: 0.056, test_loss: 0.055\n",
      "[3,   910] train_loss: 0.055, test_loss: 0.053\n",
      "[4,   455] train_loss: 0.054, test_loss: 0.054\n",
      "[4,   910] train_loss: 0.053, test_loss: 0.052\n",
      "[5,   455] train_loss: 0.053, test_loss: 0.053\n",
      "[5,   910] train_loss: 0.052, test_loss: 0.051\n",
      "[6,   455] train_loss: 0.052, test_loss: 0.052\n",
      "[6,   910] train_loss: 0.051, test_loss: 0.051\n",
      "[7,   455] train_loss: 0.051, test_loss: 0.052\n",
      "[7,   910] train_loss: 0.050, test_loss: 0.050\n",
      "[8,   455] train_loss: 0.050, test_loss: 0.051\n",
      "[8,   910] train_loss: 0.049, test_loss: 0.050\n"
     ]
    }
   ],
   "source": [
    "net = Net()\n",
    "optimizer = optim.SGD(net.parameters(), lr=0.001, momentum=0.9)\n",
    "losses = train(net, X_train, y_train, X_test, y_test, optimizer)"
   ]
  },
  {
   "cell_type": "code",
   "execution_count": 114,
   "metadata": {},
   "outputs": [
    {
     "data": {
      "text/plain": [
       "[<matplotlib.lines.Line2D at 0x14c0dc550>]"
      ]
     },
     "execution_count": 114,
     "metadata": {},
     "output_type": "execute_result"
    },
    {
     "data": {
      "image/png": "[encoded data removed]",
      "text/plain": [
       "<Figure size 432x288 with 1 Axes>"
      ]
     },
     "metadata": {
      "needs_background": "light"
     },
     "output_type": "display_data"
    }
   ],
   "source": [
    "from matplotlib import pyplot as plt\n",
    "plt.plot(losses[0])\n",
    "plt.plot(losses[1])"
   ]
  },
  {
   "cell_type": "code",
   "execution_count": 129,
   "metadata": {},
   "outputs": [],
   "source": [
    "y_pred = net(get_batch(X_test, 0, batch_size=X_test.shape[0]))\n",
    "y_pred = pd.DataFrame(y_pred.detach().numpy())"
   ]
  },
  {
   "cell_type": "code",
   "execution_count": 130,
   "metadata": {},
   "outputs": [
    {
     "data": {
      "text/plain": [
       "((1520, 30), (1520, 30))"
      ]
     },
     "execution_count": 130,
     "metadata": {},
     "output_type": "execute_result"
    }
   ],
   "source": [
    "y_test.shape, y_pred.shape"
   ]
  },
  {
   "cell_type": "code",
   "execution_count": 132,
   "metadata": {},
   "outputs": [
    {
     "data": {
      "text/plain": [
       "0.2659160845930362"
      ]
     },
     "execution_count": 132,
     "metadata": {},
     "output_type": "execute_result"
    }
   ],
   "source": [
    "score, correlations = evaluate(y_test, y_pred)\n",
    "score"
   ]
  }
 ],
 "metadata": {
  "kernelspec": {
   "display_name": "Python 3",
   "language": "python",
   "name": "python3"
  },
  "language_info": {
   "codemirror_mode": {
    "name": "ipython",
    "version": 3
   },
   "file_extension": ".py",
   "mimetype": "text/x-python",
   "name": "python",
   "nbconvert_exporter": "python",
   "pygments_lexer": "ipython3",
   "version": "3.7.5"
  }
 },
 "nbformat": 4,
 "nbformat_minor": 4
}
